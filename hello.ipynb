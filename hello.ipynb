{
    "cells": [
        {
            "cell_type": "code",
            "execution_count": 2,
            "metadata": {},
            "outputs": [
                {
                    "name": "stdout",
                    "output_type": "stream",
                    "text": "+---------+----+----------+---------+-------------+-------+---------+--------------+-------+---------+----------+\n|Direction|Year|      Date|  Weekday|Current_Match|Country|Commodity|Transport_Mode|Measure|    Value|Cumulative|\n+---------+----+----------+---------+-------------+-------+---------+--------------+-------+---------+----------+\n|  Exports|2015|31/01/2015| Saturday|   01/02/2020|    All|      All|           All|      $|257000000| 257000000|\n|  Exports|2015|01/02/2015|   Sunday|   02/02/2020|    All|      All|           All|      $|123000000| 380000000|\n|  Exports|2015|02/02/2015|   Monday|   03/02/2020|    All|      All|           All|      $|176000000| 556000000|\n|  Exports|2015|03/02/2015|  Tuesday|   04/02/2020|    All|      All|           All|      $|115000000| 671000000|\n|  Exports|2015|04/02/2015|Wednesday|   05/02/2020|    All|      All|           All|      $| 74000000| 746000000|\n+---------+----+----------+---------+-------------+-------+---------+--------------+-------+---------+----------+\nonly showing top 5 rows\n\n"
                },
                {
                    "data": {
                        "text/plain": "configurationName = os_800afd43a2844aeea7133809e9e3b8ef_configs\ncos = com.ibm.ibmos2spark.CloudObjectStorage@f4f59326\nspark = org.apache.spark.sql.SparkSession@6f5261e8\ndfData1 = [Direction: string, Year: int ... 9 more fields]\n"
                    },
                    "metadata": {},
                    "output_type": "display_data"
                },
                {
                    "data": {
                        "text/plain": "getCredentials: ()scala.collection.mutable.HashMap[String,String]\n"
                    },
                    "metadata": {},
                    "output_type": "display_data"
                },
                {
                    "data": {
                        "text/plain": "[Direction: string, Year: int ... 9 more fields]"
                    },
                    "execution_count": 2,
                    "metadata": {},
                    "output_type": "execute_result"
                }
            ],
            "source": "// The code was removed by Watson Studio for sharing."
        },
        {
            "cell_type": "code",
            "execution_count": null,
            "metadata": {},
            "outputs": [],
            "source": ""
        },
        {
            "cell_type": "code",
            "execution_count": null,
            "metadata": {},
            "outputs": [],
            "source": ""
        },
        {
            "cell_type": "code",
            "execution_count": null,
            "metadata": {},
            "outputs": [],
            "source": ""
        }
    ],
    "metadata": {
        "kernelspec": {
            "display_name": "Scala 2.11 with Spark",
            "language": "scala",
            "name": "scala"
        },
        "language_info": {
            "codemirror_mode": "text/x-scala",
            "file_extension": ".scala",
            "mimetype": "text/x-scala",
            "name": "scala",
            "pygments_lexer": "scala",
            "version": "2.11.12"
        }
    },
    "nbformat": 4,
    "nbformat_minor": 1
}